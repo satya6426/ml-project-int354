{
  "cells": [
    {
      "cell_type": "code",
      "execution_count": 133,
      "metadata": {
        "id": "Xghst0tb9Bsb"
      },
      "outputs": [],
      "source": [
        "import pandas as pd\n",
        "import numpy as np\n",
        "df=pd.read_csv('/content/satyaml.csv')\n",
        "\n"
      ]
    },
    {
      "cell_type": "code",
      "execution_count": 134,
      "metadata": {
        "colab": {
          "base_uri": "https://localhost:8080/"
        },
        "id": "P9OWM6cg9iUt",
        "outputId": "36b6ce38-3bda-44ed-fb77-b5f9aa578645"
      },
      "outputs": [
        {
          "output_type": "execute_result",
          "data": {
            "text/plain": [
              "Index(['Chiral indice n', 'Chiral indice m', 'Initial atomic coordinate u',\n",
              "       'Initial atomic coordinate v', 'Initial atomic coordinate w',\n",
              "       'Calculated atomic coordinates u'', 'Calculated atomic coordinates v'',\n",
              "       'Calculated atomic coordinates w''],\n",
              "      dtype='object')"
            ]
          },
          "metadata": {},
          "execution_count": 134
        }
      ],
      "source": [
        "df.columns\n"
      ]
    },
    {
      "cell_type": "code",
      "source": [
        "x = df.drop(\"Calculated atomic coordinates w'\", axis=1)"
      ],
      "metadata": {
        "id": "fLn971fKwhAr"
      },
      "execution_count": 135,
      "outputs": []
    },
    {
      "cell_type": "code",
      "source": [
        "df.head(10)"
      ],
      "metadata": {
        "colab": {
          "base_uri": "https://localhost:8080/",
          "height": 424
        },
        "id": "trwMMAZfr4po",
        "outputId": "df760bc4-6d5b-421e-ea5b-e9f970808787"
      },
      "execution_count": 136,
      "outputs": [
        {
          "output_type": "execute_result",
          "data": {
            "text/plain": [
              "   Chiral indice n  Chiral indice m  Initial atomic coordinate u  \\\n",
              "0                2                1                       679005   \n",
              "1                2                1                       717298   \n",
              "2                2                1                       489336   \n",
              "3                2                1                       413957   \n",
              "4                2                1                       334292   \n",
              "5                2                1                       510664   \n",
              "6                2                1                       413957   \n",
              "7                2                1                       712552   \n",
              "8                2                1                       320995   \n",
              "9                2                1                       394742   \n",
              "\n",
              "   Initial atomic coordinate v  Initial atomic coordinate w  \\\n",
              "0                       701318                        17033   \n",
              "1                       642129                       231319   \n",
              "2                       303751                        88462   \n",
              "3                       632996                        40843   \n",
              "4                       543401                        15989   \n",
              "5                       696249                       255128   \n",
              "6                       632996                       374176   \n",
              "7                        55479                       112271   \n",
              "8                       298682                         1837   \n",
              "9                       279367                       302747   \n",
              "\n",
              "   Calculated atomic coordinates u'  Calculated atomic coordinates v'  \\\n",
              "0                            721039                            730232   \n",
              "1                            738414                             65675   \n",
              "2                            477676                            263221   \n",
              "3                            408823                            657897   \n",
              "4                            303349                            558807   \n",
              "5                            496977                            725608   \n",
              "6                            390878                            657645   \n",
              "7                            750056                            561494   \n",
              "8                            281301                            261433   \n",
              "9                             35086                              2335   \n",
              "\n",
              "   Calculated atomic coordinates w'  \n",
              "0                             17014  \n",
              "1                            232369  \n",
              "2                             88712  \n",
              "3                             39796  \n",
              "4                            157373  \n",
              "5                             25597  \n",
              "6                            374735  \n",
              "7                            114944  \n",
              "8                            182779  \n",
              "9                            302196  "
            ],
            "text/html": [
              "\n",
              "  <div id=\"df-4b0df672-63f6-433b-a11a-b981d544d49c\">\n",
              "    <div class=\"colab-df-container\">\n",
              "      <div>\n",
              "<style scoped>\n",
              "    .dataframe tbody tr th:only-of-type {\n",
              "        vertical-align: middle;\n",
              "    }\n",
              "\n",
              "    .dataframe tbody tr th {\n",
              "        vertical-align: top;\n",
              "    }\n",
              "\n",
              "    .dataframe thead th {\n",
              "        text-align: right;\n",
              "    }\n",
              "</style>\n",
              "<table border=\"1\" class=\"dataframe\">\n",
              "  <thead>\n",
              "    <tr style=\"text-align: right;\">\n",
              "      <th></th>\n",
              "      <th>Chiral indice n</th>\n",
              "      <th>Chiral indice m</th>\n",
              "      <th>Initial atomic coordinate u</th>\n",
              "      <th>Initial atomic coordinate v</th>\n",
              "      <th>Initial atomic coordinate w</th>\n",
              "      <th>Calculated atomic coordinates u'</th>\n",
              "      <th>Calculated atomic coordinates v'</th>\n",
              "      <th>Calculated atomic coordinates w'</th>\n",
              "    </tr>\n",
              "  </thead>\n",
              "  <tbody>\n",
              "    <tr>\n",
              "      <th>0</th>\n",
              "      <td>2</td>\n",
              "      <td>1</td>\n",
              "      <td>679005</td>\n",
              "      <td>701318</td>\n",
              "      <td>17033</td>\n",
              "      <td>721039</td>\n",
              "      <td>730232</td>\n",
              "      <td>17014</td>\n",
              "    </tr>\n",
              "    <tr>\n",
              "      <th>1</th>\n",
              "      <td>2</td>\n",
              "      <td>1</td>\n",
              "      <td>717298</td>\n",
              "      <td>642129</td>\n",
              "      <td>231319</td>\n",
              "      <td>738414</td>\n",
              "      <td>65675</td>\n",
              "      <td>232369</td>\n",
              "    </tr>\n",
              "    <tr>\n",
              "      <th>2</th>\n",
              "      <td>2</td>\n",
              "      <td>1</td>\n",
              "      <td>489336</td>\n",
              "      <td>303751</td>\n",
              "      <td>88462</td>\n",
              "      <td>477676</td>\n",
              "      <td>263221</td>\n",
              "      <td>88712</td>\n",
              "    </tr>\n",
              "    <tr>\n",
              "      <th>3</th>\n",
              "      <td>2</td>\n",
              "      <td>1</td>\n",
              "      <td>413957</td>\n",
              "      <td>632996</td>\n",
              "      <td>40843</td>\n",
              "      <td>408823</td>\n",
              "      <td>657897</td>\n",
              "      <td>39796</td>\n",
              "    </tr>\n",
              "    <tr>\n",
              "      <th>4</th>\n",
              "      <td>2</td>\n",
              "      <td>1</td>\n",
              "      <td>334292</td>\n",
              "      <td>543401</td>\n",
              "      <td>15989</td>\n",
              "      <td>303349</td>\n",
              "      <td>558807</td>\n",
              "      <td>157373</td>\n",
              "    </tr>\n",
              "    <tr>\n",
              "      <th>5</th>\n",
              "      <td>2</td>\n",
              "      <td>1</td>\n",
              "      <td>510664</td>\n",
              "      <td>696249</td>\n",
              "      <td>255128</td>\n",
              "      <td>496977</td>\n",
              "      <td>725608</td>\n",
              "      <td>25597</td>\n",
              "    </tr>\n",
              "    <tr>\n",
              "      <th>6</th>\n",
              "      <td>2</td>\n",
              "      <td>1</td>\n",
              "      <td>413957</td>\n",
              "      <td>632996</td>\n",
              "      <td>374176</td>\n",
              "      <td>390878</td>\n",
              "      <td>657645</td>\n",
              "      <td>374735</td>\n",
              "    </tr>\n",
              "    <tr>\n",
              "      <th>7</th>\n",
              "      <td>2</td>\n",
              "      <td>1</td>\n",
              "      <td>712552</td>\n",
              "      <td>55479</td>\n",
              "      <td>112271</td>\n",
              "      <td>750056</td>\n",
              "      <td>561494</td>\n",
              "      <td>114944</td>\n",
              "    </tr>\n",
              "    <tr>\n",
              "      <th>8</th>\n",
              "      <td>2</td>\n",
              "      <td>1</td>\n",
              "      <td>320995</td>\n",
              "      <td>298682</td>\n",
              "      <td>1837</td>\n",
              "      <td>281301</td>\n",
              "      <td>261433</td>\n",
              "      <td>182779</td>\n",
              "    </tr>\n",
              "    <tr>\n",
              "      <th>9</th>\n",
              "      <td>2</td>\n",
              "      <td>1</td>\n",
              "      <td>394742</td>\n",
              "      <td>279367</td>\n",
              "      <td>302747</td>\n",
              "      <td>35086</td>\n",
              "      <td>2335</td>\n",
              "      <td>302196</td>\n",
              "    </tr>\n",
              "  </tbody>\n",
              "</table>\n",
              "</div>\n",
              "      <button class=\"colab-df-convert\" onclick=\"convertToInteractive('df-4b0df672-63f6-433b-a11a-b981d544d49c')\"\n",
              "              title=\"Convert this dataframe to an interactive table.\"\n",
              "              style=\"display:none;\">\n",
              "        \n",
              "  <svg xmlns=\"http://www.w3.org/2000/svg\" height=\"24px\"viewBox=\"0 0 24 24\"\n",
              "       width=\"24px\">\n",
              "    <path d=\"M0 0h24v24H0V0z\" fill=\"none\"/>\n",
              "    <path d=\"M18.56 5.44l.94 2.06.94-2.06 2.06-.94-2.06-.94-.94-2.06-.94 2.06-2.06.94zm-11 1L8.5 8.5l.94-2.06 2.06-.94-2.06-.94L8.5 2.5l-.94 2.06-2.06.94zm10 10l.94 2.06.94-2.06 2.06-.94-2.06-.94-.94-2.06-.94 2.06-2.06.94z\"/><path d=\"M17.41 7.96l-1.37-1.37c-.4-.4-.92-.59-1.43-.59-.52 0-1.04.2-1.43.59L10.3 9.45l-7.72 7.72c-.78.78-.78 2.05 0 2.83L4 21.41c.39.39.9.59 1.41.59.51 0 1.02-.2 1.41-.59l7.78-7.78 2.81-2.81c.8-.78.8-2.07 0-2.86zM5.41 20L4 18.59l7.72-7.72 1.47 1.35L5.41 20z\"/>\n",
              "  </svg>\n",
              "      </button>\n",
              "      \n",
              "  <style>\n",
              "    .colab-df-container {\n",
              "      display:flex;\n",
              "      flex-wrap:wrap;\n",
              "      gap: 12px;\n",
              "    }\n",
              "\n",
              "    .colab-df-convert {\n",
              "      background-color: #E8F0FE;\n",
              "      border: none;\n",
              "      border-radius: 50%;\n",
              "      cursor: pointer;\n",
              "      display: none;\n",
              "      fill: #1967D2;\n",
              "      height: 32px;\n",
              "      padding: 0 0 0 0;\n",
              "      width: 32px;\n",
              "    }\n",
              "\n",
              "    .colab-df-convert:hover {\n",
              "      background-color: #E2EBFA;\n",
              "      box-shadow: 0px 1px 2px rgba(60, 64, 67, 0.3), 0px 1px 3px 1px rgba(60, 64, 67, 0.15);\n",
              "      fill: #174EA6;\n",
              "    }\n",
              "\n",
              "    [theme=dark] .colab-df-convert {\n",
              "      background-color: #3B4455;\n",
              "      fill: #D2E3FC;\n",
              "    }\n",
              "\n",
              "    [theme=dark] .colab-df-convert:hover {\n",
              "      background-color: #434B5C;\n",
              "      box-shadow: 0px 1px 3px 1px rgba(0, 0, 0, 0.15);\n",
              "      filter: drop-shadow(0px 1px 2px rgba(0, 0, 0, 0.3));\n",
              "      fill: #FFFFFF;\n",
              "    }\n",
              "  </style>\n",
              "\n",
              "      <script>\n",
              "        const buttonEl =\n",
              "          document.querySelector('#df-4b0df672-63f6-433b-a11a-b981d544d49c button.colab-df-convert');\n",
              "        buttonEl.style.display =\n",
              "          google.colab.kernel.accessAllowed ? 'block' : 'none';\n",
              "\n",
              "        async function convertToInteractive(key) {\n",
              "          const element = document.querySelector('#df-4b0df672-63f6-433b-a11a-b981d544d49c');\n",
              "          const dataTable =\n",
              "            await google.colab.kernel.invokeFunction('convertToInteractive',\n",
              "                                                     [key], {});\n",
              "          if (!dataTable) return;\n",
              "\n",
              "          const docLinkHtml = 'Like what you see? Visit the ' +\n",
              "            '<a target=\"_blank\" href=https://colab.research.google.com/notebooks/data_table.ipynb>data table notebook</a>'\n",
              "            + ' to learn more about interactive tables.';\n",
              "          element.innerHTML = '';\n",
              "          dataTable['output_type'] = 'display_data';\n",
              "          await google.colab.output.renderOutput(dataTable, element);\n",
              "          const docLink = document.createElement('div');\n",
              "          docLink.innerHTML = docLinkHtml;\n",
              "          element.appendChild(docLink);\n",
              "        }\n",
              "      </script>\n",
              "    </div>\n",
              "  </div>\n",
              "  "
            ]
          },
          "metadata": {},
          "execution_count": 136
        }
      ]
    },
    {
      "cell_type": "code",
      "source": [
        "import matplotlib.pyplot as plt\n",
        "import pandas as pd\n",
        "\n",
        "# Create a sample dataframe\n",
        "df = pd.DataFrame({'Chiral indice n': [2, 3, 4, 5],\n",
        "                   'Chiral indice m': [4, 5, 6, 7],\n",
        "                   'Initial atomic coordinate u': [0.1, 0.2, 0.3, 0.4],\n",
        "                   'Initial atomic coordinate v': [0.2, 0.3, 0.4, 0.5],\n",
        "                   'Initial atomic coordinate w': [0.3, 0.4, 0.5, 0.6],\n",
        "                   'Calculated atomic coordinates u\\'\\'': [0.15, 0.25, 0.35, 0.45],\n",
        "                   'Calculated atomic coordinates v\\'\\'': [0.25, 0.35, 0.45, 0.55],\n",
        "                   'Calculated atomic coordinates w\\'\\'': [0.35, 0.45, 0.55, 0.65]})\n"
      ],
      "metadata": {
        "id": "wjyYCOxIrS5z"
      },
      "execution_count": 157,
      "outputs": []
    },
    {
      "cell_type": "code",
      "source": [
        "x_column = 'Initial atomic coordinate u'\n",
        "y_column = 'Calculated atomic coordinates u\\'\\''\n",
        "\n",
        "# Plot the graph\n",
        "plt.plot(df[x_column], df[y_column])\n",
        "plt.xlabel(x_column)\n",
        "plt.ylabel(y_column)\n",
        "plt.title(f'Graph of {x_column} vs {y_column}')\n",
        "plt.show()"
      ],
      "metadata": {
        "id": "Crw6nzbprN4M",
        "colab": {
          "base_uri": "https://localhost:8080/",
          "height": 472
        },
        "outputId": "deaf2544-4949-4951-f6ba-24812fb1b801"
      },
      "execution_count": 158,
      "outputs": [
        {
          "output_type": "display_data",
          "data": {
            "text/plain": [
              "<Figure size 640x480 with 1 Axes>"
            ],
            "image/png": "[encoded data removed]"
          },
          "metadata": {}
        }
      ]
    },
    {
      "cell_type": "code",
      "source": [
        "plt.scatter(df[x_column], df[y_column], label='Scatter plot')\n",
        "plt.xlabel(x_column)\n",
        "plt.ylabel(y_column)\n",
        "plt.title(f'Scatter Plot of {x_column} vs {y_column}')\n",
        "plt.legend()\n",
        "plt.show()\n"
      ],
      "metadata": {
        "id": "3aPTPz3frZWv",
        "colab": {
          "base_uri": "https://localhost:8080/",
          "height": 472
        },
        "outputId": "3b8b2f93-35d1-482c-8604-cfca7a55a150"
      },
      "execution_count": 159,
      "outputs": [
        {
          "output_type": "display_data",
          "data": {
            "text/plain": [
              "<Figure size 640x480 with 1 Axes>"
            ],
            "image/png": "[encoded data removed]"
          },
          "metadata": {}
        }
      ]
    },
    {
      "cell_type": "code",
      "source": [
        "x_column = 'Initial atomic coordinate w'\n",
        "y_column = 'Calculated atomic coordinates w\\'\\''\n",
        "\n",
        "# Plot the graph\n",
        "plt.bar(df[x_column], df[y_column], label='Bar plot')\n",
        "plt.xlabel(x_column)\n",
        "plt.ylabel(y_column)\n",
        "plt.title(f'Bar Plot of {x_column} vs {y_column}')\n",
        "plt.legend()\n",
        "plt.show()"
      ],
      "metadata": {
        "id": "inz4bq_zsTQp",
        "colab": {
          "base_uri": "https://localhost:8080/",
          "height": 472
        },
        "outputId": "4e1767c0-268d-46cd-f5e6-aad8a17471f5"
      },
      "execution_count": 160,
      "outputs": [
        {
          "output_type": "display_data",
          "data": {
            "text/plain": [
              "<Figure size 640x480 with 1 Axes>"
            ],
            "image/png": "[encoded data removed]"
          },
          "metadata": {}
        }
      ]
    },
    {
      "cell_type": "code",
      "execution_count": 142,
      "metadata": {
        "id": "XrqT8AgyDv3n"
      },
      "outputs": [],
      "source": [
        "y=df[\"Calculated atomic coordinates w'\"]"
      ]
    },
    {
      "cell_type": "code",
      "execution_count": 143,
      "metadata": {
        "id": "9d110HrXD0Ks",
        "colab": {
          "base_uri": "https://localhost:8080/",
          "height": 267
        },
        "outputId": "7bea5936-8c1e-44b4-f8b5-c4f451d7fcc6"
      },
      "outputs": [
        {
          "output_type": "execute_result",
          "data": {
            "text/plain": [
              "   Chiral indice n  Chiral indice m  Initial atomic coordinate u  \\\n",
              "0                2                1                       679005   \n",
              "1                2                1                       717298   \n",
              "2                2                1                       489336   \n",
              "3                2                1                       413957   \n",
              "4                2                1                       334292   \n",
              "\n",
              "   Initial atomic coordinate v  Initial atomic coordinate w  \\\n",
              "0                       701318                        17033   \n",
              "1                       642129                       231319   \n",
              "2                       303751                        88462   \n",
              "3                       632996                        40843   \n",
              "4                       543401                        15989   \n",
              "\n",
              "   Calculated atomic coordinates u'  Calculated atomic coordinates v'  \n",
              "0                            721039                            730232  \n",
              "1                            738414                             65675  \n",
              "2                            477676                            263221  \n",
              "3                            408823                            657897  \n",
              "4                            303349                            558807  "
            ],
            "text/html": [
              "\n",
              "  <div id=\"df-c8468ef8-83d8-450f-9376-72101896475a\">\n",
              "    <div class=\"colab-df-container\">\n",
              "      <div>\n",
              "<style scoped>\n",
              "    .dataframe tbody tr th:only-of-type {\n",
              "        vertical-align: middle;\n",
              "    }\n",
              "\n",
              "    .dataframe tbody tr th {\n",
              "        vertical-align: top;\n",
              "    }\n",
              "\n",
              "    .dataframe thead th {\n",
              "        text-align: right;\n",
              "    }\n",
              "</style>\n",
              "<table border=\"1\" class=\"dataframe\">\n",
              "  <thead>\n",
              "    <tr style=\"text-align: right;\">\n",
              "      <th></th>\n",
              "      <th>Chiral indice n</th>\n",
              "      <th>Chiral indice m</th>\n",
              "      <th>Initial atomic coordinate u</th>\n",
              "      <th>Initial atomic coordinate v</th>\n",
              "      <th>Initial atomic coordinate w</th>\n",
              "      <th>Calculated atomic coordinates u'</th>\n",
              "      <th>Calculated atomic coordinates v'</th>\n",
              "    </tr>\n",
              "  </thead>\n",
              "  <tbody>\n",
              "    <tr>\n",
              "      <th>0</th>\n",
              "      <td>2</td>\n",
              "      <td>1</td>\n",
              "      <td>679005</td>\n",
              "      <td>701318</td>\n",
              "      <td>17033</td>\n",
              "      <td>721039</td>\n",
              "      <td>730232</td>\n",
              "    </tr>\n",
              "    <tr>\n",
              "      <th>1</th>\n",
              "      <td>2</td>\n",
              "      <td>1</td>\n",
              "      <td>717298</td>\n",
              "      <td>642129</td>\n",
              "      <td>231319</td>\n",
              "      <td>738414</td>\n",
              "      <td>65675</td>\n",
              "    </tr>\n",
              "    <tr>\n",
              "      <th>2</th>\n",
              "      <td>2</td>\n",
              "      <td>1</td>\n",
              "      <td>489336</td>\n",
              "      <td>303751</td>\n",
              "      <td>88462</td>\n",
              "      <td>477676</td>\n",
              "      <td>263221</td>\n",
              "    </tr>\n",
              "    <tr>\n",
              "      <th>3</th>\n",
              "      <td>2</td>\n",
              "      <td>1</td>\n",
              "      <td>413957</td>\n",
              "      <td>632996</td>\n",
              "      <td>40843</td>\n",
              "      <td>408823</td>\n",
              "      <td>657897</td>\n",
              "    </tr>\n",
              "    <tr>\n",
              "      <th>4</th>\n",
              "      <td>2</td>\n",
              "      <td>1</td>\n",
              "      <td>334292</td>\n",
              "      <td>543401</td>\n",
              "      <td>15989</td>\n",
              "      <td>303349</td>\n",
              "      <td>558807</td>\n",
              "    </tr>\n",
              "  </tbody>\n",
              "</table>\n",
              "</div>\n",
              "      <button class=\"colab-df-convert\" onclick=\"convertToInteractive('df-c8468ef8-83d8-450f-9376-72101896475a')\"\n",
              "              title=\"Convert this dataframe to an interactive table.\"\n",
              "              style=\"display:none;\">\n",
              "        \n",
              "  <svg xmlns=\"http://www.w3.org/2000/svg\" height=\"24px\"viewBox=\"0 0 24 24\"\n",
              "       width=\"24px\">\n",
              "    <path d=\"M0 0h24v24H0V0z\" fill=\"none\"/>\n",
              "    <path d=\"M18.56 5.44l.94 2.06.94-2.06 2.06-.94-2.06-.94-.94-2.06-.94 2.06-2.06.94zm-11 1L8.5 8.5l.94-2.06 2.06-.94-2.06-.94L8.5 2.5l-.94 2.06-2.06.94zm10 10l.94 2.06.94-2.06 2.06-.94-2.06-.94-.94-2.06-.94 2.06-2.06.94z\"/><path d=\"M17.41 7.96l-1.37-1.37c-.4-.4-.92-.59-1.43-.59-.52 0-1.04.2-1.43.59L10.3 9.45l-7.72 7.72c-.78.78-.78 2.05 0 2.83L4 21.41c.39.39.9.59 1.41.59.51 0 1.02-.2 1.41-.59l7.78-7.78 2.81-2.81c.8-.78.8-2.07 0-2.86zM5.41 20L4 18.59l7.72-7.72 1.47 1.35L5.41 20z\"/>\n",
              "  </svg>\n",
              "      </button>\n",
              "      \n",
              "  <style>\n",
              "    .colab-df-container {\n",
              "      display:flex;\n",
              "      flex-wrap:wrap;\n",
              "      gap: 12px;\n",
              "    }\n",
              "\n",
              "    .colab-df-convert {\n",
              "      background-color: #E8F0FE;\n",
              "      border: none;\n",
              "      border-radius: 50%;\n",
              "      cursor: pointer;\n",
              "      display: none;\n",
              "      fill: #1967D2;\n",
              "      height: 32px;\n",
              "      padding: 0 0 0 0;\n",
              "      width: 32px;\n",
              "    }\n",
              "\n",
              "    .colab-df-convert:hover {\n",
              "      background-color: #E2EBFA;\n",
              "      box-shadow: 0px 1px 2px rgba(60, 64, 67, 0.3), 0px 1px 3px 1px rgba(60, 64, 67, 0.15);\n",
              "      fill: #174EA6;\n",
              "    }\n",
              "\n",
              "    [theme=dark] .colab-df-convert {\n",
              "      background-color: #3B4455;\n",
              "      fill: #D2E3FC;\n",
              "    }\n",
              "\n",
              "    [theme=dark] .colab-df-convert:hover {\n",
              "      background-color: #434B5C;\n",
              "      box-shadow: 0px 1px 3px 1px rgba(0, 0, 0, 0.15);\n",
              "      filter: drop-shadow(0px 1px 2px rgba(0, 0, 0, 0.3));\n",
              "      fill: #FFFFFF;\n",
              "    }\n",
              "  </style>\n",
              "\n",
              "      <script>\n",
              "        const buttonEl =\n",
              "          document.querySelector('#df-c8468ef8-83d8-450f-9376-72101896475a button.colab-df-convert');\n",
              "        buttonEl.style.display =\n",
              "          google.colab.kernel.accessAllowed ? 'block' : 'none';\n",
              "\n",
              "        async function convertToInteractive(key) {\n",
              "          const element = document.querySelector('#df-c8468ef8-83d8-450f-9376-72101896475a');\n",
              "          const dataTable =\n",
              "            await google.colab.kernel.invokeFunction('convertToInteractive',\n",
              "                                                     [key], {});\n",
              "          if (!dataTable) return;\n",
              "\n",
              "          const docLinkHtml = 'Like what you see? Visit the ' +\n",
              "            '<a target=\"_blank\" href=https://colab.research.google.com/notebooks/data_table.ipynb>data table notebook</a>'\n",
              "            + ' to learn more about interactive tables.';\n",
              "          element.innerHTML = '';\n",
              "          dataTable['output_type'] = 'display_data';\n",
              "          await google.colab.output.renderOutput(dataTable, element);\n",
              "          const docLink = document.createElement('div');\n",
              "          docLink.innerHTML = docLinkHtml;\n",
              "          element.appendChild(docLink);\n",
              "        }\n",
              "      </script>\n",
              "    </div>\n",
              "  </div>\n",
              "  "
            ]
          },
          "metadata": {},
          "execution_count": 143
        }
      ],
      "source": [
        "x.head()"
      ]
    },
    {
      "cell_type": "code",
      "execution_count": 144,
      "metadata": {
        "id": "tYuBNxGwD1nx"
      },
      "outputs": [],
      "source": [
        "from sklearn.model_selection import train_test_split"
      ]
    },
    {
      "cell_type": "code",
      "execution_count": 145,
      "metadata": {
        "id": "Xj3i78ZfEhB4"
      },
      "outputs": [],
      "source": [
        "xtr,xts,ytr,yts=train_test_split(x,y,test_size=0.2,random_state=42)"
      ]
    },
    {
      "cell_type": "code",
      "source": [
        "from sklearn.metrics import mean_absolute_percentage_error"
      ],
      "metadata": {
        "id": "UupEsCkXmitc"
      },
      "execution_count": 146,
      "outputs": []
    },
    {
      "cell_type": "code",
      "execution_count": 147,
      "metadata": {
        "id": "NSsSuyg4FBhh"
      },
      "outputs": [],
      "source": [
        "from sklearn.preprocessing import StandardScaler\n",
        "scaler = StandardScaler()\n",
        "xtr = scaler.fit_transform(xtr)\n",
        "xts = scaler.transform(xts)"
      ]
    },
    {
      "cell_type": "code",
      "execution_count": 148,
      "metadata": {
        "id": "GQZdo28pGkyS",
        "colab": {
          "base_uri": "https://localhost:8080/",
          "height": 74
        },
        "outputId": "89ab57c1-ecdb-422e-e0ef-b6243618f6b7"
      },
      "outputs": [
        {
          "output_type": "execute_result",
          "data": {
            "text/plain": [
              "LogisticRegression()"
            ],
            "text/html": [
              "<style>#sk-container-id-2 {color: black;background-color: white;}#sk-container-id-2 pre{padding: 0;}#sk-container-id-2 div.sk-toggleable {background-color: white;}#sk-container-id-2 label.sk-toggleable__label {cursor: pointer;display: block;width: 100%;margin-bottom: 0;padding: 0.3em;box-sizing: border-box;text-align: center;}#sk-container-id-2 label.sk-toggleable__label-arrow:before {content: \"▸\";float: left;margin-right: 0.25em;color: #696969;}#sk-container-id-2 label.sk-toggleable__label-arrow:hover:before {color: black;}#sk-container-id-2 div.sk-estimator:hover label.sk-toggleable__label-arrow:before {color: black;}#sk-container-id-2 div.sk-toggleable__content {max-height: 0;max-width: 0;overflow: hidden;text-align: left;background-color: #f0f8ff;}#sk-container-id-2 div.sk-toggleable__content pre {margin: 0.2em;color: black;border-radius: 0.25em;background-color: #f0f8ff;}#sk-container-id-2 input.sk-toggleable__control:checked~div.sk-toggleable__content {max-height: 200px;max-width: 100%;overflow: auto;}#sk-container-id-2 input.sk-toggleable__control:checked~label.sk-toggleable__label-arrow:before {content: \"▾\";}#sk-container-id-2 div.sk-estimator input.sk-toggleable__control:checked~label.sk-toggleable__label {background-color: #d4ebff;}#sk-container-id-2 div.sk-label input.sk-toggleable__control:checked~label.sk-toggleable__label {background-color: #d4ebff;}#sk-container-id-2 input.sk-hidden--visually {border: 0;clip: rect(1px 1px 1px 1px);clip: rect(1px, 1px, 1px, 1px);height: 1px;margin: -1px;overflow: hidden;padding: 0;position: absolute;width: 1px;}#sk-container-id-2 div.sk-estimator {font-family: monospace;background-color: #f0f8ff;border: 1px dotted black;border-radius: 0.25em;box-sizing: border-box;margin-bottom: 0.5em;}#sk-container-id-2 div.sk-estimator:hover {background-color: #d4ebff;}#sk-container-id-2 div.sk-parallel-item::after {content: \"\";width: 100%;border-bottom: 1px solid gray;flex-grow: 1;}#sk-container-id-2 div.sk-label:hover label.sk-toggleable__label {background-color: #d4ebff;}#sk-container-id-2 div.sk-serial::before {content: \"\";position: absolute;border-left: 1px solid gray;box-sizing: border-box;top: 0;bottom: 0;left: 50%;z-index: 0;}#sk-container-id-2 div.sk-serial {display: flex;flex-direction: column;align-items: center;background-color: white;padding-right: 0.2em;padding-left: 0.2em;position: relative;}#sk-container-id-2 div.sk-item {position: relative;z-index: 1;}#sk-container-id-2 div.sk-parallel {display: flex;align-items: stretch;justify-content: center;background-color: white;position: relative;}#sk-container-id-2 div.sk-item::before, #sk-container-id-2 div.sk-parallel-item::before {content: \"\";position: absolute;border-left: 1px solid gray;box-sizing: border-box;top: 0;bottom: 0;left: 50%;z-index: -1;}#sk-container-id-2 div.sk-parallel-item {display: flex;flex-direction: column;z-index: 1;position: relative;background-color: white;}#sk-container-id-2 div.sk-parallel-item:first-child::after {align-self: flex-end;width: 50%;}#sk-container-id-2 div.sk-parallel-item:last-child::after {align-self: flex-start;width: 50%;}#sk-container-id-2 div.sk-parallel-item:only-child::after {width: 0;}#sk-container-id-2 div.sk-dashed-wrapped {border: 1px dashed gray;margin: 0 0.4em 0.5em 0.4em;box-sizing: border-box;padding-bottom: 0.4em;background-color: white;}#sk-container-id-2 div.sk-label label {font-family: monospace;font-weight: bold;display: inline-block;line-height: 1.2em;}#sk-container-id-2 div.sk-label-container {text-align: center;}#sk-container-id-2 div.sk-container {/* jupyter's `normalize.less` sets `[hidden] { display: none; }` but bootstrap.min.css set `[hidden] { display: none !important; }` so we also need the `!important` here to be able to override the default hidden behavior on the sphinx rendered scikit-learn.org. See: https://github.com/scikit-learn/scikit-learn/issues/21755 */display: inline-block !important;position: relative;}#sk-container-id-2 div.sk-text-repr-fallback {display: none;}</style><div id=\"sk-container-id-2\" class=\"sk-top-container\"><div class=\"sk-text-repr-fallback\"><pre>LogisticRegression()</pre><b>In a Jupyter environment, please rerun this cell to show the HTML representation or trust the notebook. <br />On GitHub, the HTML representation is unable to render, please try loading this page with nbviewer.org.</b></div><div class=\"sk-container\" hidden><div class=\"sk-item\"><div class=\"sk-estimator sk-toggleable\"><input class=\"sk-toggleable__control sk-hidden--visually\" id=\"sk-estimator-id-2\" type=\"checkbox\" checked><label for=\"sk-estimator-id-2\" class=\"sk-toggleable__label sk-toggleable__label-arrow\">LogisticRegression</label><div class=\"sk-toggleable__content\"><pre>LogisticRegression()</pre></div></div></div></div></div>"
            ]
          },
          "metadata": {},
          "execution_count": 148
        }
      ],
      "source": [
        "from sklearn.linear_model import LogisticRegression\n",
        "\n",
        "# Instantiate the logistic regression model\n",
        "logreg = LogisticRegression()\n",
        "\n",
        "# Fit the model to the training data\n",
        "logreg.fit(xtr, ytr)\n",
        "\n",
        "# Make predictions on the testing data\n",
        "\n",
        "\n"
      ]
    },
    {
      "cell_type": "code",
      "source": [
        "predictions = logreg.predict(xtr)"
      ],
      "metadata": {
        "id": "kIeDDFXmw_YE"
      },
      "execution_count": 149,
      "outputs": []
    },
    {
      "cell_type": "code",
      "source": [
        "yts.to_numpy().reshape(-1,1)"
      ],
      "metadata": {
        "colab": {
          "base_uri": "https://localhost:8080/"
        },
        "id": "59GHhmrqx7RT",
        "outputId": "53e9e809-9909-4ed6-d750-5f2e500b0b1e"
      },
      "execution_count": 151,
      "outputs": [
        {
          "output_type": "execute_result",
          "data": {
            "text/plain": [
              "array([[332877],\n",
              "       [107081],\n",
              "       [319646],\n",
              "       ...,\n",
              "       [819573],\n",
              "       [768389],\n",
              "       [254632]])"
            ]
          },
          "metadata": {},
          "execution_count": 151
        }
      ]
    },
    {
      "cell_type": "code",
      "source": [
        "yts.shape[0]"
      ],
      "metadata": {
        "colab": {
          "base_uri": "https://localhost:8080/"
        },
        "id": "aUy0Kfy1yFyc",
        "outputId": "6e24ea92-f167-46e6-bf5f-2a567e22c7e3"
      },
      "execution_count": 152,
      "outputs": [
        {
          "output_type": "execute_result",
          "data": {
            "text/plain": [
              "1650"
            ]
          },
          "metadata": {},
          "execution_count": 152
        }
      ]
    },
    {
      "cell_type": "code",
      "source": [
        "predictions.shape[0]"
      ],
      "metadata": {
        "colab": {
          "base_uri": "https://localhost:8080/"
        },
        "id": "VKhT7aLOyKmL",
        "outputId": "bf441b79-d33e-4358-c44e-8cc651cff829"
      },
      "execution_count": 153,
      "outputs": [
        {
          "output_type": "execute_result",
          "data": {
            "text/plain": [
              "3849"
            ]
          },
          "metadata": {},
          "execution_count": 153
        }
      ]
    },
    {
      "cell_type": "code",
      "source": [
        "# Assuming 'predictions' is a Python list\n",
        "n=1650\n",
        "shorter_predictions = predictions[:n]  # Slice the first 'n' elements of 'predictions'\n"
      ],
      "metadata": {
        "id": "hreKj0Sdy8dY"
      },
      "execution_count": 154,
      "outputs": []
    },
    {
      "cell_type": "code",
      "source": [
        "import pandas as pd\n",
        "from sklearn.metrics import mean_absolute_percentage_error\n",
        "\n",
        "# Check the shape of yts and predictions\n",
        "# if yts.shape[0] != predictions.shape[0]:\n",
        "#     raise ValueError(\"yts and predictions have inconsistent lengths\")\n",
        "\n",
        "# Calculate MAPE\n",
        "mape = mean_absolute_percentage_error(yts,shorter_predictions)\n"
      ],
      "metadata": {
        "id": "97FcqAXqxmGN"
      },
      "execution_count": 155,
      "outputs": []
    },
    {
      "cell_type": "code",
      "source": [
        "print(mape)"
      ],
      "metadata": {
        "colab": {
          "base_uri": "https://localhost:8080/"
        },
        "id": "28Tj_2WlzHWe",
        "outputId": "8fc89afc-481c-48fb-c2ae-b323b5d8a9b3"
      },
      "execution_count": 156,
      "outputs": [
        {
          "output_type": "stream",
          "name": "stdout",
          "text": [
            "3.137343973142274e+17\n"
          ]
        }
      ]
    },
    {
      "cell_type": "code",
      "source": [],
      "metadata": {
        "id": "2Lit4O_yx4BH"
      },
      "execution_count": null,
      "outputs": []
    }
  ],
  "metadata": {
    "colab": {
      "provenance": []
    },
    "kernelspec": {
      "display_name": "Python 3",
      "name": "python3"
    },
    "language_info": {
      "name": "python"
    }
  },
  "nbformat": 4,
  "nbformat_minor": 0
}